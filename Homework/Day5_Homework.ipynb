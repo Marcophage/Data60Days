{
 "cells": [
  {
   "cell_type": "code",
   "execution_count": 1,
   "id": "hourly-poetry",
   "metadata": {},
   "outputs": [],
   "source": [
    "import numpy as np"
   ]
  },
  {
   "cell_type": "code",
   "execution_count": 15,
   "id": "juvenile-advance",
   "metadata": {},
   "outputs": [],
   "source": [
    "english_score = np.array([55,89,76,65,48,70])\n",
    "math_score = np.array([60,85,60,68,np.nan,60])\n",
    "chinese_score = np.array([65,90,82,72,66,77])"
   ]
  },
  {
   "cell_type": "code",
   "execution_count": 11,
   "id": "herbal-reporter",
   "metadata": {},
   "outputs": [
    {
     "name": "stdout",
     "output_type": "stream",
     "text": [
      "英文成績的平均: 67.16666666666667\n",
      "英文成績的最大值: 89\n",
      "英文成績的最小值: 48\n",
      "英文成績的標準差: 13.433995020924426\n",
      "數學成績的平均: nan\n",
      "數學成績的最大值: nan\n",
      "數學成績的最小值: nan\n",
      "數學成績的標準差: nan\n",
      "國文成績的平均: 75.33333333333333\n",
      "國文成績的最大值: 90\n",
      "國文成績的最小值: 65\n",
      "國文成績的標準差: 8.825468196582484\n"
     ]
    }
   ],
   "source": [
    "#1. 請計算各科成績平均、最大值、最小值、標準差，其中數學缺一筆資料可忽略?\n",
    "En_ave = np.average(english_score)\n",
    "En_max = np.max(english_score)\n",
    "En_min = np.min(english_score)\n",
    "En_std = np.std(english_score)\n",
    "print(\"英文成績的平均:\",En_ave)\n",
    "print(\"英文成績的最大值:\",En_max)\n",
    "print(\"英文成績的最小值:\",En_min)\n",
    "print(\"英文成績的標準差:\",En_std)\n",
    "Ma_ave = np.average(math_score)\n",
    "Ma_max = np.max(math_score)\n",
    "Ma_min = np.min(math_score)\n",
    "Ma_std = np.std(math_score)\n",
    "print(\"數學成績的平均:\",Ma_ave)\n",
    "print(\"數學成績的最大值:\",Ma_max)\n",
    "print(\"數學成績的最小值:\",Ma_min)\n",
    "print(\"數學成績的標準差:\",Ma_std)\n",
    "Ch_ave = np.average(chinese_score)\n",
    "Ch_max = np.max(chinese_score)\n",
    "Ch_min = np.min(chinese_score)\n",
    "Ch_std = np.std(chinese_score)\n",
    "print(\"國文成績的平均:\",Ch_ave)\n",
    "print(\"國文成績的最大值:\",Ch_max)\n",
    "print(\"國文成績的最小值:\",Ch_min)\n",
    "print(\"國文成績的標準差:\",Ch_std)"
   ]
  },
  {
   "cell_type": "code",
   "execution_count": 16,
   "id": "interracial-separate",
   "metadata": {},
   "outputs": [
    {
     "name": "stdout",
     "output_type": "stream",
     "text": [
      "數學成績的平均: 64.66666666666667\n",
      "數學成績的最大值: 85.0\n",
      "數學成績的最小值: 55.0\n",
      "數學成績的標準差: 9.860132971832694\n"
     ]
    }
   ],
   "source": [
    "#2. 第五位同學補考數學後成績為55，請計算補考後數學成績平均、最大值、最小值、標準差?\n",
    "math_score[4]=55\n",
    "Ma_ave = np.average(math_score)\n",
    "Ma_max = np.max(math_score)\n",
    "Ma_min = np.min(math_score)\n",
    "Ma_std = np.std(math_score)\n",
    "print(\"數學成績的平均:\",Ma_ave)\n",
    "print(\"數學成績的最大值:\",Ma_max)\n",
    "print(\"數學成績的最小值:\",Ma_min)\n",
    "print(\"數學成績的標準差:\",Ma_std)"
   ]
  },
  {
   "cell_type": "code",
   "execution_count": 26,
   "id": "gothic-cursor",
   "metadata": {},
   "outputs": [
    {
     "name": "stdout",
     "output_type": "stream",
     "text": [
      "英文與國文成績的相關係數: 0.9779282830211268\n",
      "數學與國文成績的相關係數: 0.740568027023363\n",
      "英文與國文成績相關係數最高!!\n"
     ]
    }
   ],
   "source": [
    "#3. 用補考後資料找出與國文成績相關係數最高的學科?\n",
    "En_Ch = np.corrcoef(english_score,chinese_score)\n",
    "Ma_Ch = np.corrcoef(math_score,chinese_score)\n",
    "print(\"英文與國文成績的相關係數:\",En_Ch[0][1])\n",
    "print(\"數學與國文成績的相關係數:\",Ma_Ch[0][1])\n",
    "print(\"英文與國文成績相關係數最高!!\")"
   ]
  },
  {
   "cell_type": "code",
   "execution_count": null,
   "id": "color-austria",
   "metadata": {},
   "outputs": [],
   "source": []
  }
 ],
 "metadata": {
  "kernelspec": {
   "display_name": "Python 3",
   "language": "python",
   "name": "python3"
  },
  "language_info": {
   "codemirror_mode": {
    "name": "ipython",
    "version": 3
   },
   "file_extension": ".py",
   "mimetype": "text/x-python",
   "name": "python",
   "nbconvert_exporter": "python",
   "pygments_lexer": "ipython3",
   "version": "3.7.9"
  }
 },
 "nbformat": 4,
 "nbformat_minor": 5
}
