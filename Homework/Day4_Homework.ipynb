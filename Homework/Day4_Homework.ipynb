{
 "cells": [
  {
   "cell_type": "code",
   "execution_count": 29,
   "id": "available-india",
   "metadata": {},
   "outputs": [],
   "source": [
    "import numpy as np\n",
    "english_score = np.array([55,89,76,65,48,70])\n",
    "math_score = np.array([60,85,60,68,55,60])\n",
    "chinese_score = np.array([65,90,82,72,66,77])"
   ]
  },
  {
   "cell_type": "code",
   "execution_count": 30,
   "id": "enclosed-white",
   "metadata": {},
   "outputs": [
    {
     "name": "stdout",
     "output_type": "stream",
     "text": [
      "有 3 位學生英文成績比數學高\n"
     ]
    }
   ],
   "source": [
    "#1.有多少學生英文成績比數學成績高?\n",
    "num=0\n",
    "for i in range(0,english_score.size):\n",
    "    if np.greater(english_score[i],math_score[i])==True:\n",
    "        num=num+1\n",
    "print(\"有\",num,\"位學生英文成績比數學高\")"
   ]
  },
  {
   "cell_type": "code",
   "execution_count": 34,
   "id": "cordless-jonathan",
   "metadata": {},
   "outputs": [
    {
     "name": "stdout",
     "output_type": "stream",
     "text": [
      "全班同學最高分都是國文\n",
      "[ True  True  True  True  True  True]\n",
      "True\n"
     ]
    }
   ],
   "source": [
    "#2.是否全班同學最高分都是國文?\n",
    "num=0\n",
    "for i in range(0,chinese_score.size):\n",
    "    if np.greater(chinese_score[i],english_score[i])==True and np.greater(chinese_score[i],math_score[i])==True :\n",
    "        num=num+1\n",
    "    if num==chinese_score.size:\n",
    "        print(\"全班同學最高分都是國文\")\n",
    "        \n",
    "ch_greater_ma = np.greater(chinese_score,math_score)\n",
    "ch_greater_en = np.greater(chinese_score,english_score)\n",
    "print(np.logical_and(ch_greater_ma,ch_greater_en))\n",
    "print(np.logical_and(ch_greater_ma,ch_greater_en).all())"
   ]
  },
  {
   "cell_type": "code",
   "execution_count": null,
   "id": "indoor-corpus",
   "metadata": {},
   "outputs": [],
   "source": []
  }
 ],
 "metadata": {
  "kernelspec": {
   "display_name": "Python 3",
   "language": "python",
   "name": "python3"
  },
  "language_info": {
   "codemirror_mode": {
    "name": "ipython",
    "version": 3
   },
   "file_extension": ".py",
   "mimetype": "text/x-python",
   "name": "python",
   "nbconvert_exporter": "python",
   "pygments_lexer": "ipython3",
   "version": "3.7.9"
  }
 },
 "nbformat": 4,
 "nbformat_minor": 5
}
