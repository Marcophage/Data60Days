{
 "cells": [
  {
   "cell_type": "code",
   "execution_count": null,
   "id": "discrete-spine",
   "metadata": {},
   "outputs": [],
   "source": [
    "#1.在速度較慢的時候，可以先從哪邊開始檢查？\n",
    "#讀取資料的文件格式，loading rate pkl > hdf > csv > xlxs"
   ]
  },
  {
   "cell_type": "code",
   "execution_count": null,
   "id": "organic-plant",
   "metadata": {},
   "outputs": [],
   "source": [
    "#2.資料過大時應採取什麼方式讓記憶體占用量下降？\n",
    "#欄位的型態降階可以使記憶體占用量下降"
   ]
  }
 ],
 "metadata": {
  "kernelspec": {
   "display_name": "Python 3",
   "language": "python",
   "name": "python3"
  },
  "language_info": {
   "codemirror_mode": {
    "name": "ipython",
    "version": 3
   },
   "file_extension": ".py",
   "mimetype": "text/x-python",
   "name": "python",
   "nbconvert_exporter": "python",
   "pygments_lexer": "ipython3",
   "version": "3.7.9"
  }
 },
 "nbformat": 4,
 "nbformat_minor": 5
}
