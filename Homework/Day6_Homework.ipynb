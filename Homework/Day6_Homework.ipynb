{
 "cells": [
  {
   "cell_type": "code",
   "execution_count": 1,
   "id": "complicated-retailer",
   "metadata": {},
   "outputs": [],
   "source": [
    "import numpy as np"
   ]
  },
  {
   "cell_type": "code",
   "execution_count": 14,
   "id": "complimentary-drinking",
   "metadata": {},
   "outputs": [],
   "source": [
    "#1. 將下兩列array存成npz檔\n",
    "array1 = np.array(range(30))\n",
    "array2 = np.array([2,3,5])\n",
    "np.savez('Hw',array1,array2)"
   ]
  },
  {
   "cell_type": "code",
   "execution_count": 28,
   "id": "alternative-ambassador",
   "metadata": {},
   "outputs": [
    {
     "name": "stdout",
     "output_type": "stream",
     "text": [
      "In Hw.npz: ['arr_0', 'arr_1']\n",
      "array1: [ 0  1  2  3  4  5  6  7  8  9 10 11 12 13 14 15 16 17 18 19 20 21 22 23\n",
      " 24 25 26 27 28 29]\n",
      "array2: [2 3 5]\n"
     ]
    }
   ],
   "source": [
    "#2. 讀取剛剛的npz檔，加入下列array一起存成新的npz檔\n",
    "recall = np.load('Hw.npz')\n",
    "print(\"In Hw.npz:\",recall.files)\n",
    "print(\"array1:\",recall['arr_0'])\n",
    "print(\"array2:\",recall['arr_1'])"
   ]
  },
  {
   "cell_type": "code",
   "execution_count": 29,
   "id": "starting-circumstances",
   "metadata": {},
   "outputs": [
    {
     "name": "stdout",
     "output_type": "stream",
     "text": [
      "In New_Hw.npz: ['arr_0', 'arr_1', 'arr_2']\n",
      "array1: [ 0  1  2  3  4  5  6  7  8  9 10 11 12 13 14 15 16 17 18 19 20 21 22 23\n",
      " 24 25 26 27 28 29]\n",
      "array2: [2 3 5]\n",
      "array3: [[0 0 0]\n",
      " [1 2 3]]\n"
     ]
    }
   ],
   "source": [
    "array3 = ([[0,0,0],[1,2,3]])\n",
    "np.savez('New_Hw',recall['arr_0'],recall['arr_1'],array3)\n",
    "New_recall = np.load('New_Hw.npz')\n",
    "print(\"In New_Hw.npz:\",New_recall.files)\n",
    "print(\"array1:\",New_recall['arr_0'])\n",
    "print(\"array2:\",New_recall['arr_1'])\n",
    "print(\"array3:\",New_recall['arr_2'])"
   ]
  },
  {
   "cell_type": "code",
   "execution_count": null,
   "id": "tender-bonus",
   "metadata": {},
   "outputs": [],
   "source": []
  }
 ],
 "metadata": {
  "kernelspec": {
   "display_name": "Python 3",
   "language": "python",
   "name": "python3"
  },
  "language_info": {
   "codemirror_mode": {
    "name": "ipython",
    "version": 3
   },
   "file_extension": ".py",
   "mimetype": "text/x-python",
   "name": "python",
   "nbconvert_exporter": "python",
   "pygments_lexer": "ipython3",
   "version": "3.7.9"
  }
 },
 "nbformat": 4,
 "nbformat_minor": 5
}
