{
 "cells": [
  {
   "cell_type": "code",
   "execution_count": 2,
   "id": "acute-indonesian",
   "metadata": {},
   "outputs": [],
   "source": [
    "import numpy as np"
   ]
  },
  {
   "cell_type": "code",
   "execution_count": 15,
   "id": "political-aluminum",
   "metadata": {},
   "outputs": [
    {
     "name": "stdout",
     "output_type": "stream",
     "text": [
      "分貝: 60.0\n"
     ]
    }
   ],
   "source": [
    "#1.正常的談話的聲壓為20000微巴斯卡，請問多少分貝?\n",
    "#請寫下程式\n",
    "V1 = 20000\n",
    "V0 = 20\n",
    "decibel=20*np.log10(V1/V0)\n",
    "print(\"分貝:\",decibel)"
   ]
  },
  {
   "cell_type": "code",
   "execution_count": 53,
   "id": "active-inspiration",
   "metadata": {},
   "outputs": [
    {
     "name": "stdout",
     "output_type": "stream",
     "text": [
      "30分貝的聲壓: 632.4555320336758\n",
      "50分貝的聲壓: 6324.555320336759\n",
      "30分貝的聲壓是50分貝的 0.10 倍\n"
     ]
    }
   ],
   "source": [
    "#2.30分貝的聲壓會是50分貝的幾倍?\n",
    "#公式移項過後可以得到 V1 = ?\n",
    "#請寫下程式\n",
    "#20*log10(A/V0)=30 -> log10(A)- Log10(V0)= 3/2\n",
    "#np.log10(A/20)=3/2\n",
    "decibel_30=20*np.power(10,(3/2))\n",
    "print(\"30分貝的聲壓:\",decibel_30)\n",
    "decibel_50=20*np.power(10,(5/2))\n",
    "print(\"50分貝的聲壓:\",decibel_50)\n",
    "mutiple=(decibel_30/decibel_50)\n",
    "print(\"30分貝的聲壓是50分貝的\",'%.2f'%mutiple,\"倍\")"
   ]
  },
  {
   "cell_type": "code",
   "execution_count": null,
   "id": "antique-connection",
   "metadata": {},
   "outputs": [],
   "source": []
  }
 ],
 "metadata": {
  "kernelspec": {
   "display_name": "Python 3",
   "language": "python",
   "name": "python3"
  },
  "language_info": {
   "codemirror_mode": {
    "name": "ipython",
    "version": 3
   },
   "file_extension": ".py",
   "mimetype": "text/x-python",
   "name": "python",
   "nbconvert_exporter": "python",
   "pygments_lexer": "ipython3",
   "version": "3.7.9"
  }
 },
 "nbformat": 4,
 "nbformat_minor": 5
}
